{
 "cells": [
  {
   "cell_type": "markdown",
   "metadata": {},
   "source": [
    "The purpose of this notebook is to provide a footprint of the capabilities of various natural language processing techniques.  A major constituent of which is named entity recognition (NER).  This notebook will provide a sample set of outputs from NER methods.\n",
    "\n",
    "# Spacy\n",
    "Please see [SpaCy](https://spacy.io) for more details.\n",
    "\n",
    "```bash\n",
    "! conda install -c conda-forge spacy\n",
    "```"
   ]
  },
  {
   "cell_type": "code",
   "execution_count": 1,
   "metadata": {},
   "outputs": [],
   "source": [
    "import spacy"
   ]
  },
  {
   "cell_type": "code",
   "execution_count": 2,
   "metadata": {},
   "outputs": [
    {
     "name": "stdout",
     "output_type": "stream",
     "text": [
      "x en_core_web_md-2.0.0/\n",
      "x en_core_web_md-2.0.0/PKG-INFO\n",
      "x en_core_web_md-2.0.0/MANIFEST.in\n",
      "x en_core_web_md-2.0.0/en_core_web_md/\n",
      "x en_core_web_md-2.0.0/en_core_web_md/__init__.py\n",
      "x en_core_web_md-2.0.0/en_core_web_md/meta.json\n",
      "x en_core_web_md-2.0.0/en_core_web_md/en_core_web_md-2.0.0/\n",
      "x en_core_web_md-2.0.0/en_core_web_md/en_core_web_md-2.0.0/ner/\n",
      "x en_core_web_md-2.0.0/en_core_web_md/en_core_web_md-2.0.0/ner/cfg\n",
      "x en_core_web_md-2.0.0/en_core_web_md/en_core_web_md-2.0.0/ner/lower_model\n",
      "x en_core_web_md-2.0.0/en_core_web_md/en_core_web_md-2.0.0/ner/upper_model\n",
      "x en_core_web_md-2.0.0/en_core_web_md/en_core_web_md-2.0.0/ner/tok2vec_model\n",
      "x en_core_web_md-2.0.0/en_core_web_md/en_core_web_md-2.0.0/ner/moves\n",
      "x en_core_web_md-2.0.0/en_core_web_md/en_core_web_md-2.0.0/tagger/\n",
      "x en_core_web_md-2.0.0/en_core_web_md/en_core_web_md-2.0.0/tagger/cfg\n",
      "x en_core_web_md-2.0.0/en_core_web_md/en_core_web_md-2.0.0/tagger/model\n",
      "x en_core_web_md-2.0.0/en_core_web_md/en_core_web_md-2.0.0/tagger/tag_map\n",
      "x en_core_web_md-2.0.0/en_core_web_md/en_core_web_md-2.0.0/parser/\n",
      "x en_core_web_md-2.0.0/en_core_web_md/en_core_web_md-2.0.0/parser/cfg\n",
      "x en_core_web_md-2.0.0/en_core_web_md/en_core_web_md-2.0.0/parser/lower_model\n",
      "x en_core_web_md-2.0.0/en_core_web_md/en_core_web_md-2.0.0/parser/upper_model\n",
      "x en_core_web_md-2.0.0/en_core_web_md/en_core_web_md-2.0.0/parser/tok2vec_model\n",
      "x en_core_web_md-2.0.0/en_core_web_md/en_core_web_md-2.0.0/parser/moves\n",
      "x en_core_web_md-2.0.0/en_core_web_md/en_core_web_md-2.0.0/meta.json\n",
      "x en_core_web_md-2.0.0/en_core_web_md/en_core_web_md-2.0.0/tokenizer\n",
      "x en_core_web_md-2.0.0/en_core_web_md/en_core_web_md-2.0.0/vocab/\n",
      "x en_core_web_md-2.0.0/en_core_web_md/en_core_web_md-2.0.0/vocab/key2row\n",
      "x en_core_web_md-2.0.0/en_core_web_md/en_core_web_md-2.0.0/vocab/vectors\n",
      "x en_core_web_md-2.0.0/en_core_web_md/en_core_web_md-2.0.0/vocab/lexemes.bin\n",
      "x en_core_web_md-2.0.0/en_core_web_md/en_core_web_md-2.0.0/vocab/strings.json\n",
      "x en_core_web_md-2.0.0/en_core_web_md/en_core_web_md-2.0.0/accuracy.json\n",
      "x en_core_web_md-2.0.0/meta.json\n",
      "x en_core_web_md-2.0.0/en_core_web_md.egg-info/\n",
      "x en_core_web_md-2.0.0/en_core_web_md.egg-info/SOURCES.txt\n",
      "x en_core_web_md-2.0.0/en_core_web_md.egg-info/PKG-INFO\n",
      "x en_core_web_md-2.0.0/en_core_web_md.egg-info/dependency_links.txt\n",
      "x en_core_web_md-2.0.0/en_core_web_md.egg-info/requires.txt\n",
      "x en_core_web_md-2.0.0/en_core_web_md.egg-info/top_level.txt\n",
      "x en_core_web_md-2.0.0/en_core_web_md.egg-info/not-zip-safe\n",
      "x en_core_web_md-2.0.0/setup.cfg\n",
      "x en_core_web_md-2.0.0/setup.py\n"
     ]
    }
   ],
   "source": [
    "! tar -xvzf ./Models_SpaCy/en_core_web_md-2.0.0.tar.gz"
   ]
  },
  {
   "cell_type": "code",
   "execution_count": 3,
   "metadata": {},
   "outputs": [
    {
     "name": "stdout",
     "output_type": "stream",
     "text": [
      "\n",
      "\u001b[93m    Linking successful\u001b[0m\n",
      "    /Users/sesposito/Personal/Indiv_SRE/Personal/Code/GitHub/entity_extraction/Models_SpaCy/en_core_web_md\n",
      "    --> /anaconda/envs/Env_NER/lib/python3.6/site-packages/spacy/data/en\n",
      "\n",
      "    You can now load the model via spacy.load('en')\n",
      "\n"
     ]
    }
   ],
   "source": [
    "! python -m spacy link /Users/sesposito/Personal/Indiv_SRE/Personal/Code/GitHub/entity_extraction/Models_SpaCy/en_core_web_md en --force"
   ]
  },
  {
   "cell_type": "code",
   "execution_count": 4,
   "metadata": {},
   "outputs": [],
   "source": [
    "nlp = spacy.load('en')"
   ]
  },
  {
   "cell_type": "code",
   "execution_count": 5,
   "metadata": {},
   "outputs": [
    {
     "name": "stdout",
     "output_type": "stream",
     "text": [
      "[('European', 'NORP'), ('Google', 'ORG'), ('$5.1 billion', 'MONEY'), ('Wednesday', 'DATE')]\n"
     ]
    }
   ],
   "source": [
    "doc = nlp('European authorities fined Google a record $5.1 billion on Wednesday for abusing its power in the mobile phone market and ordered the company to alter its practices')\n",
    "print([(X.text, X.label_) for X in doc.ents])"
   ]
  },
  {
   "cell_type": "code",
   "execution_count": null,
   "metadata": {},
   "outputs": [],
   "source": []
  }
 ],
 "metadata": {
  "kernelspec": {
   "display_name": "Python [conda env:Env_NER]",
   "language": "python",
   "name": "conda-env-Env_NER-py"
  },
  "language_info": {
   "codemirror_mode": {
    "name": "ipython",
    "version": 3
   },
   "file_extension": ".py",
   "mimetype": "text/x-python",
   "name": "python",
   "nbconvert_exporter": "python",
   "pygments_lexer": "ipython3",
   "version": "3.6.7"
  }
 },
 "nbformat": 4,
 "nbformat_minor": 2
}
